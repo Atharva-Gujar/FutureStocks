{
 "cells": [
  {
   "cell_type": "code",
   "execution_count": null,
   "id": "450f055e",
   "metadata": {},
   "outputs": [
    {
     "name": "stderr",
     "output_type": "stream",
     "text": [
      "2025-04-18 20:27:29.192585: I tensorflow/core/platform/cpu_feature_guard.cc:182] This TensorFlow binary is optimized to use available CPU instructions in performance-critical operations.\n",
      "To enable the following instructions: AVX2 AVX512F AVX512_VNNI FMA, in other operations, rebuild TensorFlow with the appropriate compiler flags.\n"
     ]
    }
   ],
   "source": [
    "\n",
    "import yfinance as yf\n",
    "import pandas as pd\n",
    "import numpy as np\n",
    "from sklearn.preprocessing import MinMaxScaler\n",
    "from tensorflow.keras.models import Sequential\n",
    "from tensorflow.keras.layers import LSTM, Dense, Dropout\n",
    "import matplotlib.pyplot as plt\n"
   ]
  },
  {
   "cell_type": "code",
   "execution_count": null,
   "id": "d29a7c07",
   "metadata": {},
   "outputs": [],
   "source": [
    "def get_stock_data(ticker, start_date, end_date):\n",
    "    data = yf.download(ticker, start=start_date, end=end_date)\n",
    "    return data[['Close']]\n"
   ]
  },
  {
   "cell_type": "code",
   "execution_count": null,
   "id": "a7e73e86",
   "metadata": {},
   "outputs": [],
   "source": [
    "def preprocess_data(data, sequence_length):\n",
    "    scaler = MinMaxScaler()\n",
    "    scaled_data = scaler.fit_transform(data)\n",
    "\n",
    "    x, y = [], []\n",
    "    for i in range(sequence_length, len(scaled_data)):\n",
    "        x.append(scaled_data[i-sequence_length:i, 0])\n",
    "        y.append(scaled_data[i, 0])\n",
    "\n",
    "    x, y = np.array(x), np.array(y)\n",
    "    x = np.reshape(x, (x.shape[0], x.shape[1], 1))\n",
    "    return x, y, scaler\n"
   ]
  },
  {
   "cell_type": "code",
   "execution_count": null,
   "id": "8789281f",
   "metadata": {},
   "outputs": [],
   "source": [
    "def build_model(input_shape):\n",
    "    model = Sequential()\n",
    "    model.add(LSTM(units=50, return_sequences=True, input_shape=input_shape))\n",
    "    model.add(Dropout(0.2))\n",
    "    model.add(LSTM(units=50))\n",
    "    model.add(Dropout(0.2))\n",
    "    model.add(Dense(1))\n",
    "    model.compile(optimizer='adam', loss='mean_squared_error')\n",
    "    return model"
   ]
  },
  {
   "cell_type": "code",
   "execution_count": null,
   "id": "eed31726",
   "metadata": {},
   "outputs": [],
   "source": [
    "def train_and_predict(ticker='AAPL', start='2015-01-01', end='2024-01-01', sequence_length=60):\n",
    "    data = get_stock_data(ticker, start, end)\n",
    "    x, y, scaler = preprocess_data(data.values, sequence_length)\n",
    "    model = build_model((x.shape[1], 1))\n",
    "    model.fit(x, y, epochs=10, batch_size=32)\n",
    "\n",
    "    # Predict on latest data\n",
    "    latest_data = data[-sequence_length:].values\n",
    "    latest_scaled = scaler.transform(latest_data)\n",
    "    input_seq = np.reshape(latest_scaled, (1, sequence_length, 1))\n",
    "    predicted_price = model.predict(input_seq)\n",
    "    predicted_price = scaler.inverse_transform(predicted_price)\n",
    "    print(f\"Predicted next price for {ticker}: {predicted_price[0][0]:.2f}\")\n",
    "\n",
    "    return model\n"
   ]
  },
  {
   "cell_type": "code",
   "execution_count": null,
   "id": "2dd26a98",
   "metadata": {},
   "outputs": [],
   "source": [
    "if __name__ == '__main__':\n",
    "    train_and_predict('AAPL', '2015-01-01', '2024-01-01')"
   ]
  },
  {
   "cell_type": "markdown",
   "id": "51cc8cb3",
   "metadata": {},
   "source": [
    "# live"
   ]
  },
  {
   "cell_type": "code",
   "execution_count": null,
   "id": "811b86aa",
   "metadata": {
    "scrolled": false
   },
   "outputs": [],
   "source": [
    "def get_current_price(ticker):\n",
    "    try:\n",
    "        df = yf.download(ticker, period='1d', interval='1m', progress=False, threads=False)\n",
    "        if df.empty or 'Close' not in df.columns:\n",
    "            print(f\"No data received for {ticker}.\")\n",
    "            return None\n",
    "        latest_price = df['Close'].dropna().iloc[-1]  # Ensure we get a single float, not a Series\n",
    "        return float(latest_price)\n",
    "    except Exception as e:\n",
    "        print(f\"Error fetching data for {ticker}: {e}\")\n",
    "        return None\n",
    "\n",
    "# Example usage:\n",
    "current_price = get_current_price('AAPL')\n",
    "if current_price is not None:\n",
    "    print(f\"Live AAPL price: {current_price:.2f}\")\n",
    "else:\n",
    "    print(\"Could not retrieve live price.\")\n"
   ]
  },
  {
   "cell_type": "code",
   "execution_count": null,
   "id": "36b02cbd",
   "metadata": {},
   "outputs": [],
   "source": [
    "import time\n",
    "from collections import deque\n",
    "\n",
    "price_window = deque(maxlen=60)  # Store last 60 prices\n",
    "\n",
    "while True:\n",
    "    price = get_current_price('AAPL')\n",
    "    if price:\n",
    "        price_window.append(price)\n",
    "        print(f\"Collected: {price:.2f}\")\n",
    "    \n",
    "    if len(price_window) == 60:\n",
    "        # TODO: Predict next price here\n",
    "        pass\n",
    "\n",
    "    time.sleep(60)  # Wait for 1 minute\n"
   ]
  },
  {
   "cell_type": "code",
   "execution_count": null,
   "id": "a099eed2",
   "metadata": {},
   "outputs": [],
   "source": [
    "# Assuming model and scaler are already loaded from training\n",
    "scaled_input = scaler.transform(np.array(price_window).reshape(-1, 1))\n",
    "x_live = np.reshape(scaled_input, (1, 60, 1))\n",
    "predicted = model.predict(x_live)\n",
    "predicted_price = scaler.inverse_transform(predicted)\n",
    "print(f\"📈 Predicted Next Price: {predicted_price[0][0]:.2f}\")\n"
   ]
  },
  {
   "cell_type": "markdown",
   "id": "a6b9ea68",
   "metadata": {},
   "source": [
    "# future"
   ]
  },
  {
   "cell_type": "code",
   "execution_count": 1,
   "id": "c2c88b52",
   "metadata": {
    "scrolled": true
   },
   "outputs": [
    {
     "name": "stderr",
     "output_type": "stream",
     "text": [
      "2025-04-18 20:27:45.277543: I tensorflow/core/platform/cpu_feature_guard.cc:182] This TensorFlow binary is optimized to use available CPU instructions in performance-critical operations.\n",
      "To enable the following instructions: AVX2 AVX512F AVX512_VNNI FMA, in other operations, rebuild TensorFlow with the appropriate compiler flags.\n"
     ]
    },
    {
     "name": "stdout",
     "output_type": "stream",
     "text": [
      "Enter stock ticker: RELIANCE.NS\n",
      "Enter future date (YYYY-MM-DD): 2025-04-21\n",
      "YF.download() has changed argument auto_adjust default to True\n"
     ]
    },
    {
     "name": "stderr",
     "output_type": "stream",
     "text": [
      "[*********************100%***********************]  1 of 1 completed\n"
     ]
    },
    {
     "name": "stdout",
     "output_type": "stream",
     "text": [
      "\n",
      "📊 Current Price of RELIANCE.NS: 1274.50\n",
      "🔮 Predicted Price on 2025-04-21: 1234.47\n",
      "🤔 Recommendation: Too close to call, monitor trends.\n"
     ]
    },
    {
     "name": "stderr",
     "output_type": "stream",
     "text": [
      "/var/folders/lg/x96k9k595fd23l822qs9gpvm0000gn/T/ipykernel_20950/1037817712.py:55: FutureWarning: Calling float on a single element Series is deprecated and will raise a TypeError in the future. Use float(ser.iloc[0]) instead\n",
      "  current_price = float(data['Close'].dropna().iloc[-1])\n"
     ]
    }
   ],
   "source": [
    "import yfinance as yf\n",
    "import numpy as np\n",
    "import pandas as pd\n",
    "from datetime import datetime\n",
    "from sklearn.preprocessing import MinMaxScaler\n",
    "from keras.models import Sequential\n",
    "from keras.layers import LSTM, Dense\n",
    "\n",
    "# 1. Get user input\n",
    "ticker = input(\"Enter stock ticker: \").upper()\n",
    "target_date = input(\"Enter future date (YYYY-MM-DD): \")\n",
    "target_date = datetime.strptime(target_date, \"%Y-%m-%d\").date()\n",
    "\n",
    "# 2. Download historical data\n",
    "data = yf.download(ticker, start=\"2015-01-01\", end=str(datetime.today().date()))\n",
    "data = data[['Close']]\n",
    "\n",
    "# 3. Scale data\n",
    "scaler = MinMaxScaler()\n",
    "scaled_data = scaler.fit_transform(data)\n",
    "\n",
    "# 4. Create dataset (sequence of 60 days)\n",
    "def create_dataset(data, look_back=60):\n",
    "    X, y = [], []\n",
    "    for i in range(look_back, len(data)):\n",
    "        X.append(data[i-look_back:i])\n",
    "        y.append(data[i])\n",
    "    return np.array(X), np.array(y)\n",
    "\n",
    "X, y = create_dataset(scaled_data)\n",
    "X = X.reshape((X.shape[0], X.shape[1], 1))\n",
    "\n",
    "# 5. Train a simple model\n",
    "model = Sequential()\n",
    "model.add(LSTM(units=50, return_sequences=True, input_shape=(X.shape[1], 1)))\n",
    "model.add(LSTM(units=50))\n",
    "model.add(Dense(1))\n",
    "model.compile(optimizer='adam', loss='mean_squared_error')\n",
    "model.fit(X, y, epochs=5, batch_size=32, verbose=0)\n",
    "\n",
    "# 6. Predict days ahead\n",
    "today = data.index[-1].date()\n",
    "days_ahead = (target_date - today).days\n",
    "\n",
    "if days_ahead <= 0:\n",
    "    print(\"❌ Target date must be in the future.\")\n",
    "else:\n",
    "    last_sequence = scaled_data[-60:]\n",
    "    for _ in range(days_ahead):\n",
    "        input_seq = last_sequence[-60:].reshape((1, 60, 1))\n",
    "        next_price = model.predict(input_seq, verbose=0)\n",
    "        last_sequence = np.append(last_sequence, next_price)[-60:]\n",
    "\n",
    "    predicted_price = scaler.inverse_transform(next_price.reshape(-1, 1))[0][0]\n",
    "    current_price = float(data['Close'].dropna().iloc[-1])\n",
    "\n",
    "    print(f\"\\n📊 Current Price of {ticker}: {current_price:.2f}\")\n",
    "    print(f\"🔮 Predicted Price on {target_date}: {predicted_price:.2f}\")\n",
    "\n",
    "    if predicted_price > current_price * 1.05:\n",
    "        print(\"✅ Recommendation: Consider INVESTING 📈\")\n",
    "    elif predicted_price < current_price * 0.95:\n",
    "        print(\"❌ Recommendation: Better to WAIT 💤\")\n",
    "    else:\n",
    "        print(\"🤔 Recommendation: Too close to call, monitor trends.\")\n"
   ]
  },
  {
   "cell_type": "code",
   "execution_count": 6,
   "id": "e166a7f7",
   "metadata": {
    "scrolled": true
   },
   "outputs": [
    {
     "name": "stdout",
     "output_type": "stream",
     "text": [
      "Enter stock ticker: RELIANCE.NS\n",
      "Enter future date (YYYY-MM-DD): 2025-04-21\n"
     ]
    },
    {
     "name": "stderr",
     "output_type": "stream",
     "text": [
      "[*********************100%***********************]  1 of 1 completed\n"
     ]
    },
    {
     "name": "stdout",
     "output_type": "stream",
     "text": [
      "\n",
      "📊 Current Price of RELIANCE.NS: 1274.50\n",
      "🔮 Predicted Price on 2025-04-21: 1333.18\n",
      "🤔 Recommendation: Too close to call, monitor trends.\n",
      "\n",
      "📉 RMSE on Training Data: 16.9961\n"
     ]
    },
    {
     "data": {
      "image/png": "[encoded data removed]",
      "text/plain": [
       "<Figure size 1200x600 with 1 Axes>"
      ]
     },
     "metadata": {},
     "output_type": "display_data"
    }
   ],
   "source": [
    "import yfinance as yf\n",
    "import numpy as np\n",
    "import pandas as pd\n",
    "from datetime import datetime\n",
    "from sklearn.preprocessing import MinMaxScaler\n",
    "from sklearn.metrics import mean_squared_error\n",
    "from keras.models import Sequential\n",
    "from keras.layers import LSTM, Dense\n",
    "import matplotlib.pyplot as plt\n",
    "\n",
    "# 1. Get user input\n",
    "ticker = input(\"Enter stock ticker: \").upper()\n",
    "target_date = input(\"Enter future date (YYYY-MM-DD): \")\n",
    "target_date = datetime.strptime(target_date, \"%Y-%m-%d\").date()\n",
    "\n",
    "# 2. Download historical data\n",
    "data = yf.download(ticker, start=\"2015-01-01\", end=str(datetime.today().date()))\n",
    "data = data[['Close']]\n",
    "\n",
    "# 3. Scale data\n",
    "scaler = MinMaxScaler()\n",
    "scaled_data = scaler.fit_transform(data)\n",
    "\n",
    "# 4. Create dataset (sequence of 60 days)\n",
    "def create_dataset(data, look_back=60):\n",
    "    X, y = [], []\n",
    "    for i in range(look_back, len(data)):\n",
    "        X.append(data[i-look_back:i])\n",
    "        y.append(data[i])\n",
    "    return np.array(X), np.array(y)\n",
    "\n",
    "X, y = create_dataset(scaled_data)\n",
    "X = X.reshape((X.shape[0], X.shape[1], 1))\n",
    "\n",
    "# 5. Train a simple model\n",
    "model = Sequential()\n",
    "model.add(LSTM(units=50, return_sequences=True, input_shape=(X.shape[1], 1)))\n",
    "model.add(LSTM(units=50))\n",
    "model.add(Dense(1))\n",
    "model.compile(optimizer='adam', loss='mean_squared_error')\n",
    "model.fit(X, y, epochs=100, batch_size=32, verbose=0)\n",
    "\n",
    "# 6. Predict days ahead\n",
    "today = data.index[-1].date()\n",
    "days_ahead = (target_date - today).days\n",
    "\n",
    "if days_ahead <= 0:\n",
    "    print(\"❌ Target date must be in the future.\")\n",
    "else:\n",
    "    last_sequence = scaled_data[-60:]\n",
    "    predicted_prices = []\n",
    "\n",
    "    for _ in range(days_ahead):\n",
    "        input_seq = last_sequence[-60:].reshape((1, 60, 1))\n",
    "        next_price = model.predict(input_seq, verbose=0)\n",
    "        predicted_prices.append(next_price[0][0])\n",
    "        last_sequence = np.append(last_sequence, next_price)[-60:]\n",
    "\n",
    "    predicted_price = scaler.inverse_transform(np.array(predicted_prices[-1]).reshape(-1, 1))[0][0]\n",
    "    current_price = data['Close'].dropna().iloc[-1].item()\n",
    "\n",
    "\n",
    "    print(f\"\\n📊 Current Price of {ticker}: {current_price:.2f}\")\n",
    "    print(f\"🔮 Predicted Price on {target_date}: {predicted_price:.2f}\")\n",
    "\n",
    "    if predicted_price > current_price * 1.05:\n",
    "        print(\"✅ Recommendation: Consider INVESTING 📈\")\n",
    "    elif predicted_price < current_price * 0.95:\n",
    "        print(\"❌ Recommendation: Better to WAIT 💤\")\n",
    "    else:\n",
    "        print(\"🤔 Recommendation: Too close to call, monitor trends.\")\n",
    "\n",
    "    # Evaluate model on training data\n",
    "    predicted_train = model.predict(X, verbose=0)\n",
    "    actual_prices = scaler.inverse_transform(y.reshape(-1, 1))\n",
    "    predicted_train_prices = scaler.inverse_transform(predicted_train)\n",
    "\n",
    "    rmse = np.sqrt(mean_squared_error(actual_prices, predicted_train_prices))\n",
    "    print(f\"\\n📉 RMSE on Training Data: {rmse:.4f}\")\n",
    "\n",
    "    # 9. Plot actual vs predicted on training data\n",
    "    plt.figure(figsize=(12,6))\n",
    "    plt.plot(actual_prices, label='Actual Price')\n",
    "    plt.plot(predicted_train_prices, label='Predicted Price (Train)')\n",
    "    plt.title(f'{ticker} Stock Price Prediction (Training Performance)')\n",
    "    plt.xlabel('Time')\n",
    "    plt.ylabel('Price')\n",
    "    plt.legend()\n",
    "    plt.grid(True)\n",
    "    plt.show()\n"
   ]
  },
  {
   "cell_type": "code",
   "execution_count": null,
   "id": "515e5f63",
   "metadata": {},
   "outputs": [],
   "source": []
  },
  {
   "cell_type": "code",
   "execution_count": null,
   "id": "bcae4b4b",
   "metadata": {},
   "outputs": [],
   "source": []
  },
  {
   "cell_type": "code",
   "execution_count": null,
   "id": "7a9267bc",
   "metadata": {},
   "outputs": [],
   "source": []
  },
  {
   "cell_type": "code",
   "execution_count": null,
   "id": "3150449a",
   "metadata": {},
   "outputs": [],
   "source": []
  },
  {
   "cell_type": "code",
   "execution_count": null,
   "id": "5dfe1007",
   "metadata": {},
   "outputs": [],
   "source": []
  },
  {
   "cell_type": "code",
   "execution_count": null,
   "id": "e131e169",
   "metadata": {},
   "outputs": [],
   "source": []
  },
  {
   "cell_type": "code",
   "execution_count": null,
   "id": "66dd4e6c",
   "metadata": {},
   "outputs": [],
   "source": []
  },
  {
   "cell_type": "code",
   "execution_count": null,
   "id": "a2c3a7ec",
   "metadata": {},
   "outputs": [],
   "source": []
  },
  {
   "cell_type": "code",
   "execution_count": null,
   "id": "4c594d23",
   "metadata": {},
   "outputs": [],
   "source": []
  }
 ],
 "metadata": {
  "kernelspec": {
   "display_name": "Python 3 (ipykernel)",
   "language": "python",
   "name": "python3"
  },
  "language_info": {
   "codemirror_mode": {
    "name": "ipython",
    "version": 3
   },
   "file_extension": ".py",
   "mimetype": "text/x-python",
   "name": "python",
   "nbconvert_exporter": "python",
   "pygments_lexer": "ipython3",
   "version": "3.9.13"
  }
 },
 "nbformat": 4,
 "nbformat_minor": 5
}
